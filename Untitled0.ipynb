{
  "nbformat": 4,
  "nbformat_minor": 0,
  "metadata": {
    "colab": {
      "provenance": [],
      "authorship_tag": "ABX9TyOAKczKFb45XAclqlDKD2rW",
      "include_colab_link": true
    },
    "kernelspec": {
      "name": "python3",
      "display_name": "Python 3"
    },
    "language_info": {
      "name": "python"
    }
  },
  "cells": [
    {
      "cell_type": "markdown",
      "metadata": {
        "id": "view-in-github",
        "colab_type": "text"
      },
      "source": [
        "<a href=\"https://colab.research.google.com/github/Flavio192/Flavio192/blob/main/Untitled0.ipynb\" target=\"_parent\"><img src=\"https://colab.research.google.com/assets/colab-badge.svg\" alt=\"Open In Colab\"/></a>"
      ]
    },
    {
      "cell_type": "code",
      "execution_count": 1,
      "metadata": {
        "colab": {
          "base_uri": "https://localhost:8080/"
        },
        "id": "1OfphYKzidwr",
        "outputId": "2ce85808-0189-4bda-d46d-23724b41d4db"
      },
      "outputs": [
        {
          "output_type": "stream",
          "name": "stdout",
          "text": [
            "Mounted at /content/drive\n"
          ]
        }
      ],
      "source": [
        "from google.colab import drive\n",
        "drive.mount('/content/drive')\n"
      ]
    },
    {
      "cell_type": "code",
      "source": [
        "!pip install PyPDF2\n"
      ],
      "metadata": {
        "colab": {
          "base_uri": "https://localhost:8080/"
        },
        "id": "PfR2NbYWjbnS",
        "outputId": "b7ca91da-094a-4a53-acc7-ddd97e82b355"
      },
      "execution_count": 2,
      "outputs": [
        {
          "output_type": "stream",
          "name": "stdout",
          "text": [
            "Collecting PyPDF2\n",
            "  Downloading pypdf2-3.0.1-py3-none-any.whl.metadata (6.8 kB)\n",
            "Downloading pypdf2-3.0.1-py3-none-any.whl (232 kB)\n",
            "\u001b[?25l   \u001b[90m━━━━━━━━━━━━━━━━━━━━━━━━━━━━━━━━━━━━━━━━\u001b[0m \u001b[32m0.0/232.6 kB\u001b[0m \u001b[31m?\u001b[0m eta \u001b[36m-:--:--\u001b[0m\r\u001b[2K   \u001b[91m━━━━━━━━━━━━━━━━━━━━━━━━━━━━━━━━━\u001b[0m\u001b[90m╺\u001b[0m\u001b[90m━━━━━━\u001b[0m \u001b[32m194.6/232.6 kB\u001b[0m \u001b[31m5.7 MB/s\u001b[0m eta \u001b[36m0:00:01\u001b[0m\r\u001b[2K   \u001b[90m━━━━━━━━━━━━━━━━━━━━━━━━━━━━━━━━━━━━━━━━\u001b[0m \u001b[32m232.6/232.6 kB\u001b[0m \u001b[31m4.5 MB/s\u001b[0m eta \u001b[36m0:00:00\u001b[0m\n",
            "\u001b[?25hInstalling collected packages: PyPDF2\n",
            "Successfully installed PyPDF2-3.0.1\n"
          ]
        }
      ]
    },
    {
      "cell_type": "code",
      "source": [
        "import os\n",
        "import pandas as pd\n",
        "from PyPDF2 import PdfReader, PdfWriter\n",
        "\n",
        "# Ruta de los archivos\n",
        "ruta_excel = \"/content/drive/My Drive/Carpetas/Tlaxcala.xlsx\"  # Cambia \"tu_archivo.xlsx\" al nombre de tu Excel\n",
        "ruta_pdf = \"/content/drive/My Drive/Carpetas/Documentos.pdf\"    # Cambia \"tu_archivo.pdf\" al nombre de tu PDF\n",
        "ruta_output = \"/content/drive/My Drive/Carpetas/Resultado\"         # Carpeta de salida\n",
        "\n",
        "# Crear la carpeta de salida si no existe\n",
        "if not os.path.exists(ruta_output):\n",
        "    os.makedirs(ruta_output)\n",
        "\n",
        "# Leer el Excel y obtener los folios\n",
        "df = pd.read_excel(ruta_excel)\n",
        "folios = df['Folio'].astype(str).str.zfill(6).tolist()  # Asegurar que los folios tengan 6 dígitos\n",
        "\n",
        "# Leer el PDF\n",
        "pdf = PdfReader(ruta_pdf)\n",
        "total_paginas = len(pdf.pages)\n",
        "\n",
        "# Verificar que el número de páginas sea suficiente\n",
        "if total_paginas < len(folios) * 3:\n",
        "    raise ValueError(\"El PDF no tiene suficientes páginas para todos los folios.\")\n",
        "\n",
        "# Procesar cada folio\n",
        "for i, folio in enumerate(folios):\n",
        "    # Crear la carpeta del folio\n",
        "    carpeta_folio = os.path.join(ruta_output, folio)\n",
        "    if not os.path.exists(carpeta_folio):\n",
        "        os.makedirs(carpeta_folio)\n",
        "\n",
        "    # Extraer las páginas correspondientes\n",
        "    inicio = i * 3  # Página inicial (0-indexado)\n",
        "    fin = inicio + 3  # Página final no inclusiva\n",
        "\n",
        "    # Crear los dos nuevos PDFs\n",
        "    solicitud_writer = PdfWriter()\n",
        "    solicitud_writer.add_page(pdf.pages[inicio])  # Primera página\n",
        "    solicitud_path = os.path.join(carpeta_folio, \"1.- Solicitud.pdf\")\n",
        "    with open(solicitud_path, \"wb\") as f:\n",
        "        solicitud_writer.write(f)\n",
        "\n",
        "    estudio_writer = PdfWriter()\n",
        "    estudio_writer.add_page(pdf.pages[inicio + 1])  # Segunda página\n",
        "    estudio_writer.add_page(pdf.pages[inicio + 2])  # Tercera página\n",
        "    estudio_path = os.path.join(carpeta_folio, \"2.- Estudio Socioeconómico.pdf\")\n",
        "    with open(estudio_path, \"wb\") as f:\n",
        "        estudio_writer.write(f)\n",
        "\n",
        "    print(f\"Archivos creados para el folio {folio} en la carpeta {carpeta_folio}\")\n",
        "\n",
        "print(\"Proceso completado.\")"
      ],
      "metadata": {
        "colab": {
          "base_uri": "https://localhost:8080/"
        },
        "id": "mGr78D2_iipQ",
        "outputId": "b9458432-762e-4a6f-c5b7-87ed57de118f"
      },
      "execution_count": 3,
      "outputs": [
        {
          "output_type": "stream",
          "name": "stdout",
          "text": [
            "Archivos creados para el folio 010005 en la carpeta /content/drive/My Drive/Carpetas/Resultado/010005\n",
            "Archivos creados para el folio 010009 en la carpeta /content/drive/My Drive/Carpetas/Resultado/010009\n",
            "Archivos creados para el folio 010020 en la carpeta /content/drive/My Drive/Carpetas/Resultado/010020\n",
            "Archivos creados para el folio 010030 en la carpeta /content/drive/My Drive/Carpetas/Resultado/010030\n",
            "Archivos creados para el folio 010031 en la carpeta /content/drive/My Drive/Carpetas/Resultado/010031\n",
            "Archivos creados para el folio 010033 en la carpeta /content/drive/My Drive/Carpetas/Resultado/010033\n",
            "Archivos creados para el folio 010039 en la carpeta /content/drive/My Drive/Carpetas/Resultado/010039\n",
            "Archivos creados para el folio 010047 en la carpeta /content/drive/My Drive/Carpetas/Resultado/010047\n",
            "Archivos creados para el folio 010049 en la carpeta /content/drive/My Drive/Carpetas/Resultado/010049\n",
            "Archivos creados para el folio 010052 en la carpeta /content/drive/My Drive/Carpetas/Resultado/010052\n",
            "Archivos creados para el folio 010073 en la carpeta /content/drive/My Drive/Carpetas/Resultado/010073\n",
            "Archivos creados para el folio 010076 en la carpeta /content/drive/My Drive/Carpetas/Resultado/010076\n",
            "Archivos creados para el folio 010079 en la carpeta /content/drive/My Drive/Carpetas/Resultado/010079\n",
            "Archivos creados para el folio 010083 en la carpeta /content/drive/My Drive/Carpetas/Resultado/010083\n",
            "Archivos creados para el folio 010085 en la carpeta /content/drive/My Drive/Carpetas/Resultado/010085\n",
            "Archivos creados para el folio 010097 en la carpeta /content/drive/My Drive/Carpetas/Resultado/010097\n",
            "Archivos creados para el folio 010107 en la carpeta /content/drive/My Drive/Carpetas/Resultado/010107\n",
            "Archivos creados para el folio 010111 en la carpeta /content/drive/My Drive/Carpetas/Resultado/010111\n",
            "Archivos creados para el folio 010113 en la carpeta /content/drive/My Drive/Carpetas/Resultado/010113\n",
            "Archivos creados para el folio 010118 en la carpeta /content/drive/My Drive/Carpetas/Resultado/010118\n",
            "Archivos creados para el folio 010148 en la carpeta /content/drive/My Drive/Carpetas/Resultado/010148\n",
            "Archivos creados para el folio 010160 en la carpeta /content/drive/My Drive/Carpetas/Resultado/010160\n",
            "Archivos creados para el folio 010162 en la carpeta /content/drive/My Drive/Carpetas/Resultado/010162\n",
            "Archivos creados para el folio 010164 en la carpeta /content/drive/My Drive/Carpetas/Resultado/010164\n",
            "Archivos creados para el folio 010178 en la carpeta /content/drive/My Drive/Carpetas/Resultado/010178\n",
            "Archivos creados para el folio 010193 en la carpeta /content/drive/My Drive/Carpetas/Resultado/010193\n",
            "Archivos creados para el folio 010196 en la carpeta /content/drive/My Drive/Carpetas/Resultado/010196\n",
            "Archivos creados para el folio 010205 en la carpeta /content/drive/My Drive/Carpetas/Resultado/010205\n",
            "Archivos creados para el folio 010206 en la carpeta /content/drive/My Drive/Carpetas/Resultado/010206\n",
            "Archivos creados para el folio 010212 en la carpeta /content/drive/My Drive/Carpetas/Resultado/010212\n",
            "Archivos creados para el folio 010238 en la carpeta /content/drive/My Drive/Carpetas/Resultado/010238\n",
            "Archivos creados para el folio 010239 en la carpeta /content/drive/My Drive/Carpetas/Resultado/010239\n",
            "Archivos creados para el folio 010243 en la carpeta /content/drive/My Drive/Carpetas/Resultado/010243\n",
            "Archivos creados para el folio 010245 en la carpeta /content/drive/My Drive/Carpetas/Resultado/010245\n",
            "Archivos creados para el folio 010251 en la carpeta /content/drive/My Drive/Carpetas/Resultado/010251\n",
            "Archivos creados para el folio 010254 en la carpeta /content/drive/My Drive/Carpetas/Resultado/010254\n",
            "Archivos creados para el folio 010259 en la carpeta /content/drive/My Drive/Carpetas/Resultado/010259\n",
            "Archivos creados para el folio 010266 en la carpeta /content/drive/My Drive/Carpetas/Resultado/010266\n",
            "Archivos creados para el folio 010271 en la carpeta /content/drive/My Drive/Carpetas/Resultado/010271\n",
            "Archivos creados para el folio 010287 en la carpeta /content/drive/My Drive/Carpetas/Resultado/010287\n",
            "Archivos creados para el folio 010299 en la carpeta /content/drive/My Drive/Carpetas/Resultado/010299\n",
            "Archivos creados para el folio 010301 en la carpeta /content/drive/My Drive/Carpetas/Resultado/010301\n",
            "Archivos creados para el folio 010311 en la carpeta /content/drive/My Drive/Carpetas/Resultado/010311\n",
            "Archivos creados para el folio 010313 en la carpeta /content/drive/My Drive/Carpetas/Resultado/010313\n",
            "Archivos creados para el folio 010325 en la carpeta /content/drive/My Drive/Carpetas/Resultado/010325\n",
            "Archivos creados para el folio 010337 en la carpeta /content/drive/My Drive/Carpetas/Resultado/010337\n",
            "Archivos creados para el folio 010344 en la carpeta /content/drive/My Drive/Carpetas/Resultado/010344\n",
            "Archivos creados para el folio 010353 en la carpeta /content/drive/My Drive/Carpetas/Resultado/010353\n",
            "Archivos creados para el folio 010354 en la carpeta /content/drive/My Drive/Carpetas/Resultado/010354\n",
            "Archivos creados para el folio 010363 en la carpeta /content/drive/My Drive/Carpetas/Resultado/010363\n",
            "Archivos creados para el folio 010371 en la carpeta /content/drive/My Drive/Carpetas/Resultado/010371\n",
            "Archivos creados para el folio 010386 en la carpeta /content/drive/My Drive/Carpetas/Resultado/010386\n",
            "Archivos creados para el folio 010388 en la carpeta /content/drive/My Drive/Carpetas/Resultado/010388\n",
            "Archivos creados para el folio 010391 en la carpeta /content/drive/My Drive/Carpetas/Resultado/010391\n",
            "Archivos creados para el folio 010395 en la carpeta /content/drive/My Drive/Carpetas/Resultado/010395\n",
            "Archivos creados para el folio 010398 en la carpeta /content/drive/My Drive/Carpetas/Resultado/010398\n",
            "Archivos creados para el folio 010401 en la carpeta /content/drive/My Drive/Carpetas/Resultado/010401\n",
            "Archivos creados para el folio 010410 en la carpeta /content/drive/My Drive/Carpetas/Resultado/010410\n",
            "Archivos creados para el folio 010416 en la carpeta /content/drive/My Drive/Carpetas/Resultado/010416\n",
            "Archivos creados para el folio 010433 en la carpeta /content/drive/My Drive/Carpetas/Resultado/010433\n",
            "Archivos creados para el folio 010435 en la carpeta /content/drive/My Drive/Carpetas/Resultado/010435\n",
            "Archivos creados para el folio 010438 en la carpeta /content/drive/My Drive/Carpetas/Resultado/010438\n",
            "Archivos creados para el folio 010451 en la carpeta /content/drive/My Drive/Carpetas/Resultado/010451\n",
            "Archivos creados para el folio 010460 en la carpeta /content/drive/My Drive/Carpetas/Resultado/010460\n",
            "Archivos creados para el folio 010462 en la carpeta /content/drive/My Drive/Carpetas/Resultado/010462\n",
            "Proceso completado.\n"
          ]
        }
      ]
    }
  ]
}